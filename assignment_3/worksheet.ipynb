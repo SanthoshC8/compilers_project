{
 "cells": [
  {
   "cell_type": "markdown",
   "id": "1186195a-1090-47f0-8a25-73c23b612cee",
   "metadata": {},
   "source": [
    "# Final Project\n",
    "### Santhosh Chelvaranjan 100787779\n",
    "### Khushbu Shah 100810818\n",
    "### Ibrahim Sharar 100753058 "
   ]
  },
  {
   "cell_type": "code",
   "execution_count": 83,
   "id": "5717a6e1-13b5-464b-9244-fdec8411cd5f",
   "metadata": {
    "editable": false,
    "tags": []
   },
   "outputs": [],
   "source": [
    "// [THIS IS READ-ONLY]\n",
    "@file:DependsOn(\"/antlr-4.11.1-complete.jar\")\n",
    "@file:DependsOn(\"./target\")"
   ]
  },
  {
   "cell_type": "code",
   "execution_count": 84,
   "id": "3b38dfda-74cd-4464-a6e0-a42096ff8aab",
   "metadata": {
    "editable": false,
    "tags": []
   },
   "outputs": [],
   "source": [
    "// [THIS IS READ-ONLY]\n",
    "import org.antlr.v4.runtime.*\n",
    "import backend.*"
   ]
  },
  {
   "cell_type": "code",
   "execution_count": 85,
   "id": "87e5764c-c1cf-43f8-86b8-71f1e6bfae44",
   "metadata": {
    "editable": false,
    "tags": []
   },
   "outputs": [],
   "source": [
    "// [THIS IS READ-ONLY]\n",
    "fun execute(source:String) {\n",
    "    val errorlistener = object: BaseErrorListener() {\n",
    "        override fun syntaxError(recognizer: Recognizer<*,*>,\n",
    "               offendingSymbol: Any?,\n",
    "               line: Int,\n",
    "               pos: Int,\n",
    "               msg: String,\n",
    "               e: RecognitionException?) {\n",
    "            throw Exception(\"${e} at line:${line}, char:${pos}\")\n",
    "        }\n",
    "    }\n",
    "    val input = CharStreams.fromString(source)\n",
    "    val lexer = PLLexer(input).apply {\n",
    "        removeErrorListeners()\n",
    "        addErrorListener(errorlistener)\n",
    "    }\n",
    "    val tokens = CommonTokenStream(lexer)\n",
    "    val parser = PLParser(tokens).apply {\n",
    "        removeErrorListeners()\n",
    "        addErrorListener(errorlistener)\n",
    "    }    \n",
    "    \n",
    "    try {\n",
    "        val result = parser.program()\n",
    "        result.expr.eval(Runtime())\n",
    "    } catch(e:Exception) {\n",
    "        println(\"Error: ${e}\")\n",
    "    }\n",
    "}"
   ]
  },
  {
   "cell_type": "markdown",
   "id": "d02565aa-4e9f-4261-a185-d140b68c54f1",
   "metadata": {
    "editable": false
   },
   "source": [
    "## String arithmetics"
   ]
  },
  {
   "cell_type": "code",
   "execution_count": 86,
   "id": "b001c14e-2f45-48fc-82be-a98168bf2aa9",
   "metadata": {
    "editable": false,
    "tags": []
   },
   "outputs": [],
   "source": [
    "// [THIS IS READ-ONLY]\n",
    "val program1 = \"\"\"\n",
    "x = \"Hello\";\n",
    "y = \"World\";\n",
    "\n",
    "print(x ++ \" \" ++ y);\n",
    "\"\"\""
   ]
  },
  {
   "cell_type": "code",
   "execution_count": 87,
   "id": "b3c2857e",
   "metadata": {
    "tags": []
   },
   "outputs": [
    {
     "name": "stdout",
     "output_type": "stream",
     "text": [
      "Hello World\n"
     ]
    }
   ],
   "source": [
    "// [YOUR WORK HERE]\n",
    "// @workUnit\n",
    "// execute the program\n",
    "\n",
    "execute(program1)"
   ]
  },
  {
   "cell_type": "markdown",
   "id": "b4ad5b2d-b4b2-42e8-bbe1-0ecefb10102d",
   "metadata": {
    "editable": false
   },
   "source": [
    "## Mixed arithmetics"
   ]
  },
  {
   "cell_type": "code",
   "execution_count": 88,
   "id": "579a59aa-6074-4715-a248-bd553e9bddbf",
   "metadata": {
    "editable": false,
    "tags": []
   },
   "outputs": [],
   "source": [
    "// [THIS IS READ-ONLY]\n",
    "val program2 = \"\"\"\n",
    "x = \"woof \";\n",
    "y = \"Dog goes \" ++ (x * 2);\n",
    "\n",
    "print(y);\n",
    "\"\"\""
   ]
  },
  {
   "cell_type": "code",
   "execution_count": 89,
   "id": "629a437d",
   "metadata": {
    "tags": []
   },
   "outputs": [
    {
     "name": "stdout",
     "output_type": "stream",
     "text": [
      "Dog goes woof woof \n"
     ]
    }
   ],
   "source": [
    "// [YOUR WORK HERE]\n",
    "// @workUnit\n",
    "\n",
    "execute(program2)"
   ]
  },
  {
   "cell_type": "markdown",
   "id": "172ba344-0ce6-49c2-a5ac-d14eefdaffb4",
   "metadata": {
    "editable": false
   },
   "source": [
    "## Loops"
   ]
  },
  {
   "cell_type": "code",
   "execution_count": 90,
   "id": "eab62b5c-103d-4b9e-9244-61faa2571bd7",
   "metadata": {
    "editable": false,
    "tags": []
   },
   "outputs": [],
   "source": [
    "// [THIS IS READ-ONLY]\n",
    "val program3 = \"\"\"\n",
    "sum = 0\n",
    "for(i in 10..20) {\n",
    "  sum = sum + i;\n",
    "}\n",
    "\n",
    "print(sum)\n",
    "\"\"\""
   ]
  },
  {
   "cell_type": "code",
   "execution_count": 91,
   "id": "9f1ac87b",
   "metadata": {
    "tags": []
   },
   "outputs": [
    {
     "name": "stdout",
     "output_type": "stream",
     "text": [
      "165\n"
     ]
    }
   ],
   "source": [
    "// [YOUR WORK HERE]\n",
    "// @workUnit\n",
    "\n",
    "execute(program3)"
   ]
  },
  {
   "cell_type": "markdown",
   "id": "46585be1-3814-4ad5-83e8-6ff46f99b90f",
   "metadata": {
    "editable": false,
    "tags": []
   },
   "source": [
    "## Function"
   ]
  },
  {
   "cell_type": "code",
   "execution_count": 92,
   "id": "91e9c33b-9393-4de7-8e98-aa82d568df53",
   "metadata": {
    "editable": false,
    "tags": []
   },
   "outputs": [],
   "source": [
    "// [THIS IS READ-ONLY]\n",
    "val program4 = \"\"\"\n",
    "function greeting(name, message) {\n",
    "  x = \"Hi,\";\n",
    "  x = x ++ \" my name is \" ++ name ++ \".\";\n",
    "  print(x);\n",
    "  print(message);\n",
    "}\n",
    "\n",
    "greeting(\"Albert\", \"How are you?\");\n",
    "\"\"\""
   ]
  },
  {
   "cell_type": "code",
   "execution_count": 93,
   "id": "475f7864",
   "metadata": {
    "tags": []
   },
   "outputs": [
    {
     "name": "stdout",
     "output_type": "stream",
     "text": [
      "Hi, my name is Albert.\n",
      "How are you?\n"
     ]
    }
   ],
   "source": [
    "execute(program4)"
   ]
  },
  {
   "cell_type": "markdown",
   "id": "49dde427-0a71-4419-b406-9d0376dbfb97",
   "metadata": {
    "tags": []
   },
   "source": [
    "## Arrays"
   ]
  },
  {
   "cell_type": "code",
   "execution_count": 94,
   "id": "b8c7982f-7918-4f0f-9149-3d9c0d88d01a",
   "metadata": {
    "tags": []
   },
   "outputs": [
    {
     "name": "stdout",
     "output_type": "stream",
     "text": [
      "[hi, how are you?, 6, 5, 4]\n",
      "how are you?\n",
      "[how are you?, 6]\n"
     ]
    }
   ],
   "source": [
    "val program5 = \"\"\"\n",
    "x = [ 1, 9, \"hi\"];\n",
    "x.append(\"how are you?\");\n",
    "x.delete(9);\n",
    "x.deleteAtIndex(0);\n",
    "x.append(6);\n",
    "x.append(5);\n",
    "x.append(4);\n",
    "print(x);\n",
    "print(x[1]);\n",
    "print(x[1..3]);\n",
    "\"\"\"\n",
    "execute(program5)"
   ]
  },
  {
   "cell_type": "markdown",
   "id": "36f26eed-f763-48c1-a0aa-232c7d0ca5e7",
   "metadata": {},
   "source": [
    "## Tuples"
   ]
  },
  {
   "cell_type": "code",
   "execution_count": 95,
   "id": "abb5cc6f-9bdb-474e-94f0-823bc941d48e",
   "metadata": {
    "tags": []
   },
   "outputs": [
    {
     "name": "stdout",
     "output_type": "stream",
     "text": [
      "(2, 4, 4)\n"
     ]
    }
   ],
   "source": [
    "val program6 = \"\"\"\n",
    "t = (2,4,4);\n",
    "print(t);\n",
    "\"\"\"\n",
    "execute(program6)"
   ]
  },
  {
   "cell_type": "markdown",
   "id": "2870439b-d667-4026-a1ff-301256089e89",
   "metadata": {},
   "source": [
    "## Sets"
   ]
  },
  {
   "cell_type": "code",
   "execution_count": 96,
   "id": "8553e34a-eae4-4374-a1d0-61032fac4aba",
   "metadata": {
    "tags": []
   },
   "outputs": [
    {
     "name": "stdout",
     "output_type": "stream",
     "text": [
      "{2, 3, 7, 9, 6, 4, 1, 5}\n"
     ]
    }
   ],
   "source": [
    "val program7 = \"\"\"\n",
    "a = {1, 1, 1, 2 ,3 ,4 ,4, 5 ,6, 7,9};\n",
    "print(a);\n",
    "\"\"\"\n",
    "execute(program7)"
   ]
  },
  {
   "cell_type": "markdown",
   "id": "eac6d1e8-8474-49a5-8818-c4367439e743",
   "metadata": {
    "tags": []
   },
   "source": [
    "## Types and sizes"
   ]
  },
  {
   "cell_type": "code",
   "execution_count": 99,
   "id": "061ec0ff-2599-4531-8e8e-47891284ede1",
   "metadata": {
    "tags": []
   },
   "outputs": [
    {
     "name": "stdout",
     "output_type": "stream",
     "text": [
      "a is <class 'int'>\n",
      "b is <class 'string'>\n",
      "c is <class 'boolean'>\n",
      "d is <class 'array'>\n",
      "e is <class 'tuple'>\n",
      "f is <class 'set'>\n",
      "1\n",
      "2\n",
      "1\n",
      "3\n",
      "1\n",
      "1\n"
     ]
    }
   ],
   "source": [
    "val program8 = \"\"\"\n",
    "a = 2;\n",
    "b = \"hi\";\n",
    "c = true;\n",
    "d = [1 , 2, 3];\n",
    "e = (1, 2, 3);\n",
    "f = {1, 2, 3};\n",
    "print(\"a is \" ++ type(a));\n",
    "print(\"b is \" ++ type(b));\n",
    "print(\"c is \" ++ type(c));\n",
    "print(\"d is \" ++ type(d));\n",
    "print(\"e is \" ++ type(e));\n",
    "print(\"f is \" ++ type(f));\n",
    "print(size(a));\n",
    "print(size(b));\n",
    "print(size(c));\n",
    "print(size(d));\n",
    "print(size(e));\n",
    "print(size(f));\n",
    "\"\"\"\n",
    "execute(program8)"
   ]
  },
  {
   "cell_type": "code",
   "execution_count": null,
   "id": "23ea98f8-a1d6-4a76-9cbc-357d98061d4a",
   "metadata": {},
   "outputs": [],
   "source": []
  }
 ],
 "metadata": {
  "kernelspec": {
   "display_name": "Kotlin",
   "language": "kotlin",
   "name": "kotlin"
  },
  "language_info": {
   "codemirror_mode": "text/x-kotlin",
   "file_extension": ".kt",
   "mimetype": "text/x-kotlin",
   "name": "kotlin",
   "nbconvert_exporter": "",
   "pygments_lexer": "kotlin",
   "version": "1.8.0-dev-707"
  }
 },
 "nbformat": 4,
 "nbformat_minor": 5
}
